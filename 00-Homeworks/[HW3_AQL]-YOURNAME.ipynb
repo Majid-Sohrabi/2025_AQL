{
 "cells": [
  {
   "cell_type": "markdown",
   "id": "7d5388ab",
   "metadata": {},
   "source": [
    "# HW3 - Applied Quantitative Logistics\n",
    "\n",
    "Instruction for submission:\n",
    "\n",
    "- Please create a private GitHub repository then commit your solution to your repository.\n",
    "\n",
    "- Deadline: **March 24, 2025, 11:59 pm.**\n",
    "\n",
    "- Please replace **Your_Name** by your full-name : **[HW3_AQL]-YOUR_NAME**\n",
    "\n",
    "\n",
    "## Tasks: \n",
    "\n",
    "1. Implement at least 2 Crossover operators for TSP problem and use the mutation variants, at least 4 mutation types (2 points)\n",
    "2. Solve the problem with SA, GA, PSO algorithms and compare the results for all the methods. (3 points)\n",
    "\n",
    "### After the assigment is done, please, push it to a [private GitHub repository](https://docs.github.com/en/github/administering-a-repository/managing-repository-settings/setting-repository-visibility) and invite [Majid-Sohrabi](https://github.com/Majid-Sohrabi) [as collaborators](https://docs.github.com/en/account-and-profile/setting-up-and-managing-your-github-user-account/managing-access-to-your-personal-repositories/inviting-collaborators-to-a-personal-repository)."
   ]
  },
  {
   "cell_type": "code",
   "execution_count": null,
   "id": "fd8d2662",
   "metadata": {},
   "outputs": [],
   "source": [
    "import numpy as np\n",
    "import math\n",
    "import matplotlib.pyplot as plt\n",
    "import random"
   ]
  },
  {
   "cell_type": "markdown",
   "id": "15fe3b2b",
   "metadata": {},
   "source": [
    "## Traveling Salesman Problem"
   ]
  },
  {
   "cell_type": "code",
   "execution_count": null,
   "id": "3d0f2568",
   "metadata": {},
   "outputs": [],
   "source": [
    "# list(np.random.permutation(15))"
   ]
  },
  {
   "cell_type": "code",
   "execution_count": null,
   "id": "617ac8b1",
   "metadata": {},
   "outputs": [],
   "source": [
    "# list(np.random.randint(0, 100, 15))"
   ]
  },
  {
   "cell_type": "code",
   "execution_count": null,
   "id": "e6e1f254",
   "metadata": {},
   "outputs": [],
   "source": [
    "# list(np.random.randint(0, 100, 15))"
   ]
  },
  {
   "cell_type": "code",
   "execution_count": null,
   "id": "e12d2b40",
   "metadata": {},
   "outputs": [],
   "source": [
    "def tsp():\n",
    "    \n",
    "    x = [24, 74, 83, 53, 7, 96, 10, 33, 53, 92, 13, 35, 97, 90, 97]\n",
    "    y = [77, 91, 60, 4, 93, 18, 18, 20, 89, 79, 62, 32, 65, 11, 62]\n",
    "    \n",
    "    n = len(x)\n",
    "    \n",
    "    d = np.zeros([n, n])\n",
    "    \n",
    "    for i in range(0, n-1):\n",
    "        for j in range(i+1, n):\n",
    "            d[i][j] = math.sqrt((x[i] - x[j])**2 + (y[i]-y[j])**2)\n",
    "            d[j][i] = d[i][j]\n",
    "            \n",
    "    xmin = 0\n",
    "    xmax = 100\n",
    "    \n",
    "    ymin = 0\n",
    "    ymax = 100\n",
    "    \n",
    "    model = {'n': n,\n",
    "            'x': x,\n",
    "            'y': y,\n",
    "            'd': d,\n",
    "            'xmin': xmin,\n",
    "            'xmax': xmax,\n",
    "            'ymin': ymin,\n",
    "            'ymax': ymax}\n",
    "        \n",
    "    return model"
   ]
  },
  {
   "cell_type": "code",
   "execution_count": null,
   "id": "feac6a88",
   "metadata": {},
   "outputs": [],
   "source": [
    "model = tsp()"
   ]
  },
  {
   "cell_type": "markdown",
   "id": "77b72fbb",
   "metadata": {},
   "source": [
    "### Create Random Solution"
   ]
  },
  {
   "cell_type": "code",
   "execution_count": null,
   "id": "69b83ffe",
   "metadata": {},
   "outputs": [],
   "source": [
    "def createRandomSolution(model):\n",
    "    n = model['n']\n",
    "    sol = list(np.random.permutation(n))\n",
    "    return sol"
   ]
  },
  {
   "cell_type": "code",
   "execution_count": null,
   "id": "03035017",
   "metadata": {},
   "outputs": [],
   "source": [
    "# sol = createRandomSolution(model)\n",
    "# sol"
   ]
  },
  {
   "cell_type": "markdown",
   "id": "ba382f8b",
   "metadata": {},
   "source": [
    "### Calculating the Length - Cost Function"
   ]
  },
  {
   "cell_type": "code",
   "execution_count": null,
   "id": "ff004008",
   "metadata": {},
   "outputs": [],
   "source": [
    "def TourLength(tour, model):\n",
    "    n = model['n']\n",
    "    \n",
    "    tour.append(tour[0])\n",
    "    \n",
    "    L = 0\n",
    "    \n",
    "    for k in range(0, n):\n",
    "        i = tour[k]\n",
    "        j = tour[k+1]\n",
    "        \n",
    "        L = L + model['d'][i][j]\n",
    "        \n",
    "    return L"
   ]
  },
  {
   "cell_type": "markdown",
   "id": "7d211349",
   "metadata": {},
   "source": [
    "### Roulette Wheel Selection"
   ]
  },
  {
   "cell_type": "code",
   "execution_count": null,
   "id": "bede57fc",
   "metadata": {},
   "outputs": [],
   "source": [
    "<YOUR CODE>"
   ]
  },
  {
   "cell_type": "markdown",
   "id": "52f1e194",
   "metadata": {},
   "source": [
    "### Mutation"
   ]
  },
  {
   "cell_type": "code",
   "execution_count": null,
   "id": "3a273474",
   "metadata": {},
   "outputs": [],
   "source": [
    "<YOUR CODE>"
   ]
  },
  {
   "cell_type": "code",
   "execution_count": null,
   "id": "be1191f7",
   "metadata": {},
   "outputs": [],
   "source": [
    "# tour = [1, 2, 3, 4, 5, 6, 7, 8, 9, 10, 11, 12, 13, 14, 15]\n",
    "# ApplySwap(tour)"
   ]
  },
  {
   "cell_type": "code",
   "execution_count": null,
   "id": "d2d962c4",
   "metadata": {},
   "outputs": [],
   "source": [
    "# tour = [1, 2, 3, 4, 5, 6, 7, 8, 9, 10, 11, 12, 13, 14, 15]\n",
    "# ApplyBigSwap(tour)"
   ]
  },
  {
   "cell_type": "code",
   "execution_count": null,
   "id": "c2f693aa",
   "metadata": {},
   "outputs": [],
   "source": [
    "# tour = [1, 2, 3, 4, 5, 6, 7, 8, 9, 10, 11, 12, 13, 14, 15]\n",
    "# ApplyReversion(tour)"
   ]
  },
  {
   "cell_type": "code",
   "execution_count": null,
   "id": "85cec5a9",
   "metadata": {},
   "outputs": [],
   "source": [
    "# tour = [1, 2, 3, 4, 5, 6, 7, 8, 9, 10, 11, 12, 13, 14, 15]\n",
    "# ApplyInsertion(tour)"
   ]
  },
  {
   "cell_type": "markdown",
   "id": "173d1288",
   "metadata": {},
   "source": [
    "## Simmulated Annealing (SA)"
   ]
  },
  {
   "cell_type": "code",
   "execution_count": null,
   "id": "7ede52b7",
   "metadata": {
    "scrolled": true
   },
   "outputs": [],
   "source": [
    "<YOUR CODE>"
   ]
  },
  {
   "cell_type": "code",
   "execution_count": null,
   "id": "90480493",
   "metadata": {},
   "outputs": [],
   "source": []
  },
  {
   "cell_type": "markdown",
   "id": "39718bb9",
   "metadata": {},
   "source": [
    "### Results"
   ]
  },
  {
   "cell_type": "code",
   "execution_count": null,
   "id": "aab6694c",
   "metadata": {},
   "outputs": [],
   "source": [
    "# Plot the result\n",
    "plt.plot(BestCost_listSA, linewidth = 2)\n",
    "plt.xlabel('Iteration')\n",
    "plt.ylabel('Best Cost')"
   ]
  },
  {
   "cell_type": "markdown",
   "id": "4422f85e",
   "metadata": {},
   "source": [
    "## Genetic Algorithm (GA)"
   ]
  },
  {
   "cell_type": "code",
   "execution_count": null,
   "id": "bba620bf",
   "metadata": {},
   "outputs": [],
   "source": [
    "<YOUR CODE>"
   ]
  },
  {
   "cell_type": "code",
   "execution_count": null,
   "id": "1c2fe287",
   "metadata": {},
   "outputs": [],
   "source": []
  },
  {
   "cell_type": "markdown",
   "id": "aedcdf14",
   "metadata": {},
   "source": [
    "### Results"
   ]
  },
  {
   "cell_type": "code",
   "execution_count": null,
   "id": "18800062",
   "metadata": {},
   "outputs": [],
   "source": [
    "# Plot the result\n",
    "plt.plot(BestCost_listGA, linewidth = 2)\n",
    "plt.xlabel('Iteration')\n",
    "plt.ylabel('Best Cost')"
   ]
  },
  {
   "cell_type": "markdown",
   "id": "487585e8",
   "metadata": {},
   "source": [
    "## Particle Swarm Optimization (PSO)"
   ]
  },
  {
   "cell_type": "code",
   "execution_count": null,
   "id": "d7ee68d1",
   "metadata": {},
   "outputs": [],
   "source": [
    "<YOUR CODE>"
   ]
  },
  {
   "cell_type": "code",
   "execution_count": null,
   "id": "347f2586",
   "metadata": {},
   "outputs": [],
   "source": []
  },
  {
   "cell_type": "markdown",
   "id": "273c6fb6",
   "metadata": {},
   "source": [
    "### Results"
   ]
  },
  {
   "cell_type": "code",
   "execution_count": null,
   "id": "0395617d",
   "metadata": {},
   "outputs": [],
   "source": [
    "# Plot the result\n",
    "plt.plot(BestCost_listPSO, linewidth = 2)\n",
    "plt.xlabel('Iteration')\n",
    "plt.ylabel('Best Cost')"
   ]
  },
  {
   "cell_type": "markdown",
   "id": "165c062f",
   "metadata": {},
   "source": [
    "## Compare all results\n",
    "\n",
    "- Draw on one plot"
   ]
  },
  {
   "cell_type": "code",
   "execution_count": null,
   "id": "6d4b2767",
   "metadata": {},
   "outputs": [],
   "source": [
    "<YOUR CODE>"
   ]
  },
  {
   "cell_type": "code",
   "execution_count": null,
   "id": "3d687cc7",
   "metadata": {},
   "outputs": [],
   "source": []
  }
 ],
 "metadata": {
  "kernelspec": {
   "display_name": "Python 3 (ipykernel)",
   "language": "python",
   "name": "python3"
  },
  "language_info": {
   "codemirror_mode": {
    "name": "ipython",
    "version": 3
   },
   "file_extension": ".py",
   "mimetype": "text/x-python",
   "name": "python",
   "nbconvert_exporter": "python",
   "pygments_lexer": "ipython3",
   "version": "3.10.9"
  }
 },
 "nbformat": 4,
 "nbformat_minor": 5
}
