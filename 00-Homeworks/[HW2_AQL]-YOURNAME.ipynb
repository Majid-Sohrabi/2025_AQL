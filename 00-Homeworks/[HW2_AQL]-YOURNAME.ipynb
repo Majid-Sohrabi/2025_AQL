{
 "cells": [
  {
   "cell_type": "markdown",
   "id": "66755134",
   "metadata": {},
   "source": [
    "# HW2 - Applied Quantitative Logistics\n",
    "\n",
    "Instruction for submission:\n",
    "\n",
    "- Please create a private GitHub repository then commit your solution to your repository.\n",
    "\n",
    "- Deadline: **March 9, 2025, 11:59 pm.**\n",
    "\n",
    "- Please replace **Your_Name** by your full-name : **[HW2_AQL]-YOUR_NAME**\n",
    "\n",
    "\n",
    "## Tasks: \n",
    "\n",
    "1. Implement Roulette Wheel Selection (1 point)\n",
    "2. Implement Tournoment Selection (1 point)\n",
    "3. Implement Scenario 1 for Genetic Engineering Algorithm (namely GEA_1) (1 point)\n",
    "4. Implement Scenario 2 for Genetic Engineering Algorithm (namely GEA_2) (1 point)\n",
    "5. Implement Scenario 3 for Genetic Engineering Algorithm (namely GEA_3) (1 point)\n",
    "6. By elements 3, 4, 5, make 5 different algorithms and compare the results of all methods on a same cost function, then plot all minimization curves on a single line plot. (2 points)\n",
    "\n",
    "Algorithms: \n",
    "1. Genetic Algorithm (GA) - contains only Crossover and Mutation operators\n",
    "2. Genetic Engineering Algorithm (GEA_1) - contains scenario 1 in addition to GA\n",
    "3. Genetic Engineering Algorithm (GEA_2) - contains scenario 2 in addition to GA\n",
    "4. Genetic Engineering Algorithm (GEA_3) - contains scenario 3 in addition to GA\n",
    "4. Genetic Engineering Algorithm (GEA full-scenarios) - contains all operators (Crossover, Mutation, Scenario 1, Scenario 2, Scenario 3)\n",
    "\n",
    "For more details about the Genetic Engineering Algorithm (GEA), please refer to the original paper: https://link.springer.com/article/10.1134/S000511792403007X\n",
    "\n",
    "### After the assigment is done, please, push it to a [private GitHub repository](https://docs.github.com/en/github/administering-a-repository/managing-repository-settings/setting-repository-visibility) and invite [Majid-Sohrabi](https://github.com/Majid-Sohrabi) [as collaborators](https://docs.github.com/en/account-and-profile/setting-up-and-managing-your-github-user-account/managing-access-to-your-personal-repositories/inviting-collaborators-to-a-personal-repository)."
   ]
  },
  {
   "cell_type": "markdown",
   "id": "02b47483",
   "metadata": {},
   "source": [
    "## Implementing Genetic Algorithm for *Continuous Problems*\n",
    "\n",
    "## Continuous GA\n",
    "\n",
    "**Problem:** Sphere\n",
    "$$\n",
    "\\min{z} = f_{sph}(x) = \\begin{equation*}\n",
    " \\sum_{i=1}^n {x_i}^2 \\end{equation*}\n",
    "$$\n",
    "\n",
    "$$\n",
    "x_{min} \\le x_i \\le x_{max}\n",
    "$$\n",
    "\n",
    "Optimal Solutions:\n",
    "\n",
    "$$\n",
    "\\forall i \\;\n",
    "\\left\\{\n",
    "    \\begin{array}\\\\\n",
    "        x_i^* = 0 \\\\\n",
    "        z^* = 0 \\\\\n",
    "    \\end{array}\n",
    "\\right.\n",
    "$$"
   ]
  },
  {
   "cell_type": "code",
   "execution_count": null,
   "id": "e521202b",
   "metadata": {},
   "outputs": [],
   "source": [
    "import numpy as np\n",
    "import pandas as pd\n",
    "import random\n",
    "import math\n",
    "import matplotlib.pyplot as plt"
   ]
  },
  {
   "cell_type": "markdown",
   "id": "f214caf5",
   "metadata": {},
   "source": [
    "### Cost Function"
   ]
  },
  {
   "cell_type": "code",
   "execution_count": null,
   "id": "1fc506c5",
   "metadata": {},
   "outputs": [],
   "source": [
    "def sphere(x):\n",
    "    \n",
    "    global NFE\n",
    "    \n",
    "    if pd.isna(NFE):\n",
    "        NFE = 0\n",
    "    \n",
    "    NFE += 1\n",
    "    \n",
    "    z = [item**2 for item in x]\n",
    "    \n",
    "    return sum(z)"
   ]
  },
  {
   "cell_type": "code",
   "execution_count": null,
   "id": "9defaaa9",
   "metadata": {},
   "outputs": [],
   "source": [
    "def pop_sort(p, c):\n",
    "    \n",
    "    li = [[c[i], i] for i in range(len(c))]\n",
    "    li.sort()\n",
    "    \n",
    "    sorted_index = [x[1] for x in li]\n",
    "    \n",
    "    sorted_pop = [p[i] for i in sorted_index]\n",
    "    sorted_cost = [c[i] for i in sorted_index]\n",
    "\n",
    "    return sorted_pop, sorted_cost"
   ]
  },
  {
   "cell_type": "markdown",
   "id": "90fded31",
   "metadata": {},
   "source": [
    "### CrossOver"
   ]
  },
  {
   "cell_type": "code",
   "execution_count": null,
   "id": "b1867c2c",
   "metadata": {},
   "outputs": [],
   "source": [
    "def CrossOver(x1, x2, gamma, varMin, varMax):\n",
    "    \n",
    "    alpha = list(np.random.uniform(-gamma, 1+gamma, size=len(x1)))\n",
    "    \n",
    "    y1 = list(np.multiply(alpha, x1) + (1 - np.array(alpha))*np.array(x2))\n",
    "    y2 = list(np.multiply(alpha, x2) + (1 - np.array(alpha))*np.array(x1))\n",
    "    \n",
    "    y1 = [max(i, varMin) for i in y1]\n",
    "    y1 = [min(i, varMax) for i in y1]\n",
    "    \n",
    "    y2 = [max(i, varMin) for i in y2]\n",
    "    y2 = [min(i, varMax) for i in y2]\n",
    "    \n",
    "    return y1, y2"
   ]
  },
  {
   "cell_type": "markdown",
   "id": "2ee6a7eb",
   "metadata": {},
   "source": [
    "### Mutation"
   ]
  },
  {
   "cell_type": "code",
   "execution_count": null,
   "id": "8e520c37",
   "metadata": {},
   "outputs": [],
   "source": [
    "def mutation(x, varMin, varMax):\n",
    "    index = int(np.random.randint(0, len(x), size=1))\n",
    "    \n",
    "    sigma = 0.1 * (varMax-varMin)\n",
    "    \n",
    "    y = x.copy()\n",
    "    \n",
    "    y[index] = x[index] + sigma*np.random.randn()\n",
    "    \n",
    "    y = [max(i, varMin) for i in y]\n",
    "    y = [min(i, varMax) for i in y]    \n",
    "    return y"
   ]
  },
  {
   "cell_type": "markdown",
   "id": "32d0ece7",
   "metadata": {},
   "source": [
    "## How to more improve the Genetic Algorithm \n",
    "\n",
    "Parent selection can be an option.\n",
    "\n",
    "### Roulette Wheel Selection"
   ]
  },
  {
   "cell_type": "code",
   "execution_count": null,
   "id": "cd2cbb2c",
   "metadata": {},
   "outputs": [],
   "source": [
    "<YOUR CODE>"
   ]
  },
  {
   "cell_type": "markdown",
   "id": "5435c8cb",
   "metadata": {},
   "source": [
    "### Tournoment Selection"
   ]
  },
  {
   "cell_type": "code",
   "execution_count": null,
   "id": "07aeba9b",
   "metadata": {},
   "outputs": [],
   "source": [
    "<YOUR CODE>"
   ]
  },
  {
   "cell_type": "markdown",
   "id": "0b8b0255",
   "metadata": {},
   "source": [
    "#### Important fact\n",
    "\n",
    "In calculating the probability we said:\n",
    "$$\n",
    "p_i \\; \\alpha \\; \\exp^{-\\beta c_i}\n",
    "$$\n",
    "\n",
    "Let's say we want to minimize the cost of a project, first it was based on $, then RUB, and then maybe with another currency which has the lowest value. In this case the scale for the function will change.\n",
    "\n",
    "When we change the data (cost scale changes), then we need to change the **betha** too. In this senario we manipulate the formula to normalize it:\n",
    "\n",
    "$$\n",
    "p_i \\; \\alpha \\; \\exp^{-\\beta \\frac{c_i}{c_{max}}}\n",
    "$$\n",
    "\n",
    "$c_{max}$ is the worst cost ever found\n",
    "\n",
    "\n",
    "\n",
    "In this case with one setting we solve different types of problems. Now **betha** is independant from the cost function."
   ]
  },
  {
   "cell_type": "code",
   "execution_count": null,
   "id": "0845ed46",
   "metadata": {
    "scrolled": true
   },
   "outputs": [],
   "source": [
    "### Problem Parameters Definition ###\n",
    "nVar = 5       # Number of decision variables\n",
    "\n",
    "varMin = -10   # Lower Bound of Variables\n",
    "varMax = 10    # Upper Bound of Variables\n",
    "\n",
    "global NFE\n",
    "NFE = 0\n",
    "\n",
    "### GA Parameters ###\n",
    "maxIt = 20     # Maximum numner of iterations\n",
    "nPop = 100       # Population size \n",
    "\n",
    "pc = 0.8                   # Crossover percentage\n",
    "nc = 2*round(pc*nPop/2)    # Number of offsprings (parents)\n",
    "\n",
    "pm = 0.3                   # Mutation percentage\n",
    "nm = round(pm*nPop)        # Number of mutants\n",
    "\n",
    "gamma = 0.05\n",
    "\n",
    "# for tournoment selection\n",
    "tournomentSize = 3\n",
    "\n",
    "# for roulette wheele selection\n",
    "beta = 8       # Selection pressure\n",
    "\n",
    "### Initialization ###\n",
    "pop, costs = [], []\n",
    "\n",
    "for i in range(0, nPop):\n",
    "    pop.append(list(np.random.uniform(varMin, varMax, size=nVar)))\n",
    "    costs.append(sphere(pop[i]))\n",
    "\n",
    "# Sort the population and costs\n",
    "pop, costs = pop_sort(pop, costs)\n",
    "\n",
    "#  Store the best solution\n",
    "bestSolution = [pop[0]]\n",
    "\n",
    "# Array to hold best cost values\n",
    "bestCosts = [costs[0]]\n",
    "\n",
    "# Store the worst cost\n",
    "worstCost = costs[-1]\n",
    "\n",
    "# Array to hold number of function evaluation\n",
    "nfe = [NFE]\n",
    "\n",
    "### Main Loop ###\n",
    "for it in range(1, maxIt):\n",
    "      \n",
    "    # Calculate selection probabilities\n",
    "    <YOUR CODE>\n",
    "\n",
    "    # Crossover\n",
    "    popc, popc_cost = [], []\n",
    "    for k in range(1, int(nc/2)):\n",
    "        \n",
    "        # Select parents indices\n",
    "        rand1 = int(np.random.randint(nPop, size=1))\n",
    "        rand2 = int(np.random.randint(nPop, size=1))\n",
    "\n",
    "        # Select parents\n",
    "        p1 = pop[rand1]\n",
    "        p2 = pop[rand2]\n",
    "        \n",
    "        # Apply crossover\n",
    "        y1, y2 = CrossOver(p1, p2, gamma, varMin, varMax)\n",
    "        \n",
    "        popc.append(y1)\n",
    "        popc.append(y2)\n",
    "        \n",
    "        # Evaluate offsprings\n",
    "        popc_cost.append(sphere(y1))\n",
    "        popc_cost.append(sphere(y2))\n",
    "    \n",
    "    popm, popm_cost = [], []\n",
    "    \n",
    "    # Mutation\n",
    "    for k in range(1, nm):\n",
    "        \n",
    "        # Select parent\n",
    "        rand = int(np.random.randint(nPop, size=1))\n",
    "        p = pop[rand]\n",
    "        \n",
    "        # Apply mutation\n",
    "        popm.append(mutation(p, varMax, varMin))\n",
    "\n",
    "        # Evaluate mutate\n",
    "        popm_cost.append(sphere(popm[-1]))\n",
    "        \n",
    "        \n",
    "        \n",
    "    # Extract Mask Matrix for elit population\n",
    "    <YOUR CODE>\n",
    "    \n",
    "        \n",
    "    # Apply Scenario 1 - Crossover with robust chromosome\n",
    "    <YOUR CODE>\n",
    "    \n",
    "    # Apply Scenario 2 - Directed mutation\n",
    "    <YOUR CODE>\n",
    "    \n",
    "    # Apply Scenario 1 - gene injection\n",
    "    <YOUR CODE>\n",
    "    \n",
    "    \n",
    "        \n",
    "    # Create merged population\n",
    "    pop = pop + popc + popm\n",
    "    costs = costs + popc_cost + popm_cost\n",
    "    \n",
    "    # Sort the population and costs\n",
    "    pop, costs = pop_sort(pop, costs)\n",
    "    \n",
    "    # Truncation\n",
    "    pop = pop[:nPop]\n",
    "    costs = costs[:nPop]\n",
    "    \n",
    "    # Store best solution ever found\n",
    "    bestSolution.append(pop[0])\n",
    "    \n",
    "    # Store best cost ever found\n",
    "    bestCosts.append(costs[0])\n",
    "     \n",
    "    # Update the worst cost\n",
    "    worstCost = max(worstCost, costs[-1])\n",
    "\n",
    "    # Store nfe\n",
    "    nfe.append(NFE)\n",
    "    \n",
    "#     if bestCosts[-2] == 0:\n",
    "#         break\n",
    "    \n",
    "#     print(f'Iteration {it} : Best Cost = {bestCosts[it]}') \n",
    "    print(f'Iteration {it} : NFE = {nfe[it]},  Best Cost = {bestCosts[it]}')"
   ]
  },
  {
   "cell_type": "markdown",
   "id": "109df39f",
   "metadata": {},
   "source": [
    "### Plot the results"
   ]
  },
  {
   "cell_type": "code",
   "execution_count": null,
   "id": "85ee6d41",
   "metadata": {},
   "outputs": [],
   "source": [
    "plt.plot(nfe, bestCosts, linewidth = 3)\n",
    "plt.xlabel('NFE')\n",
    "plt.ylabel('Best Cost')"
   ]
  },
  {
   "cell_type": "markdown",
   "id": "3c301697",
   "metadata": {},
   "source": [
    "### y-axis in logarithm"
   ]
  },
  {
   "cell_type": "code",
   "execution_count": null,
   "id": "0598b8b3",
   "metadata": {},
   "outputs": [],
   "source": [
    "plt.plot(nfe, np.log(bestCosts), linewidth = 3)\n",
    "plt.xlabel('NFE')\n",
    "plt.ylabel('Best Cost')"
   ]
  },
  {
   "cell_type": "code",
   "execution_count": null,
   "id": "c78ab7db",
   "metadata": {},
   "outputs": [],
   "source": []
  }
 ],
 "metadata": {
  "kernelspec": {
   "display_name": "Python 3 (ipykernel)",
   "language": "python",
   "name": "python3"
  },
  "language_info": {
   "codemirror_mode": {
    "name": "ipython",
    "version": 3
   },
   "file_extension": ".py",
   "mimetype": "text/x-python",
   "name": "python",
   "nbconvert_exporter": "python",
   "pygments_lexer": "ipython3",
   "version": "3.10.9"
  }
 },
 "nbformat": 4,
 "nbformat_minor": 5
}
