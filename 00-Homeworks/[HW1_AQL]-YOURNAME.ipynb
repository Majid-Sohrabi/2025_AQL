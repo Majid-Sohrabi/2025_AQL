{
 "cells": [
  {
   "cell_type": "markdown",
   "id": "c273c92a",
   "metadata": {},
   "source": [
    "# HW1 - Applied Quantitative Logistics\n",
    "\n",
    "Instruction for submission:\n",
    "\n",
    "- Please create a private GitHub repository then commit your solution to your repository.\n",
    "\n",
    "- Deadline: **February 13, 2025, 11:59 pm.**\n",
    "\n",
    "- Please replace **Your_Name** by your full-name : **[HW1_AQL]-YOUR_NAME**\n",
    "\n",
    "### After the assigment is done, please, push it to a [private GitHub repository](https://docs.github.com/en/github/administering-a-repository/managing-repository-settings/setting-repository-visibility) and invite [Majid-Sohrabi](https://github.com/Majid-Sohrabi) [as collaborators](https://docs.github.com/en/account-and-profile/setting-up-and-managing-your-github-user-account/managing-access-to-your-personal-repositories/inviting-collaborators-to-a-personal-repository)."
   ]
  },
  {
   "cell_type": "code",
   "execution_count": null,
   "id": "5ab48cf5",
   "metadata": {},
   "outputs": [],
   "source": [
    "import numpy as np\n",
    "import pandas as pd\n",
    "import math\n",
    "import matplotlib.pyplot as plt\n",
    "import random"
   ]
  },
  {
   "cell_type": "markdown",
   "id": "63a46df2",
   "metadata": {},
   "source": [
    "## Binary SA\n",
    "\n",
    "**Problem:** Min One\n",
    "$$\n",
    "\\min{z} = f(x) = \\begin{equation*}\n",
    "\\sum_{i=1}^n x_i \\end{equation*}\n",
    "$$\n",
    "\n",
    "$$\n",
    "x_i \\in \\{0, 1\\}\n",
    "$$"
   ]
  },
  {
   "cell_type": "code",
   "execution_count": null,
   "id": "51a7d785",
   "metadata": {},
   "outputs": [],
   "source": [
    "<YOUR CODE>"
   ]
  },
  {
   "cell_type": "markdown",
   "id": "bf06b729",
   "metadata": {},
   "source": [
    "Improve SA quality:\n",
    "\n",
    "Application in high dimension (more complex) problems when one sulution does not work well.\n",
    "\n",
    "- How to improve?\n",
    "\n",
    "### 1. Making parallel SA under one algorithm (no interaction between solutions)\n",
    "\n",
    "<img src=\"Picture1.png\" width=\"400\">\n",
    "\n",
    "\n",
    "Note: In this case the best solution out of 3 will be best solution for the next iteration."
   ]
  },
  {
   "cell_type": "code",
   "execution_count": null,
   "id": "734b193a",
   "metadata": {},
   "outputs": [],
   "source": [
    "<YOUR CODE>"
   ]
  },
  {
   "cell_type": "code",
   "execution_count": null,
   "id": "2758c357",
   "metadata": {},
   "outputs": [],
   "source": []
  },
  {
   "cell_type": "markdown",
   "id": "475e436c",
   "metadata": {},
   "source": [
    "### 2. Making SA based on population by interaction.\n",
    "\n",
    "<img src=\"Picture2.png\" width=\"400\">\n",
    "\n",
    "Note: In this case at each time we make several neighbours, then compare the best neighbours by current solutions."
   ]
  },
  {
   "cell_type": "code",
   "execution_count": null,
   "id": "36974d39",
   "metadata": {},
   "outputs": [],
   "source": [
    "<YOUR CODE>"
   ]
  },
  {
   "cell_type": "code",
   "execution_count": null,
   "id": "55bd6dbe",
   "metadata": {},
   "outputs": [],
   "source": []
  },
  {
   "cell_type": "markdown",
   "id": "8f3a5e45",
   "metadata": {},
   "source": [
    "### 3. Now let's combine steps 1 and 2 together in one algorithm.\n",
    "\n",
    "In this case, for SA based on population with interaction.\n",
    "\n",
    "<img src=\"Picture3.png\" width=\"400\">\n",
    "\n",
    "Note: Now we have 3 parents and 12 neighbours, then compare each parent by all neighbours by SA mechanism."
   ]
  },
  {
   "cell_type": "markdown",
   "id": "21ce46f7",
   "metadata": {},
   "source": [
    "- SA based on population steps:\n",
    "\n",
    "1. Generate initial population and evaluate\n",
    "2. Define the best solution out of them\n",
    "3. Adjust the initial temprature $T=T0$\n",
    "4. Repeat steps *4.1* to *4.4* for a specific number of iterations\n",
    "    \n",
    "    4.1. For each member of the population generate specific number of neighbours.\n",
    "    \n",
    "    4.2. Sort all neighbours and the best members to the number of population are elected.\n",
    "    \n",
    "    4.3. each member of the population will be compared by these winner neighbours\n",
    "    \n",
    "    4.4 Update the best solution ever found\n",
    "\n",
    "5. Reduce the temprature and return to step 4 (if it's needed)"
   ]
  },
  {
   "cell_type": "code",
   "execution_count": null,
   "id": "25af7d0d",
   "metadata": {},
   "outputs": [],
   "source": [
    "<YOUR CODE>"
   ]
  },
  {
   "cell_type": "code",
   "execution_count": null,
   "id": "5b6427fc",
   "metadata": {},
   "outputs": [],
   "source": []
  }
 ],
 "metadata": {
  "kernelspec": {
   "display_name": "Python 3 (ipykernel)",
   "language": "python",
   "name": "python3"
  },
  "language_info": {
   "codemirror_mode": {
    "name": "ipython",
    "version": 3
   },
   "file_extension": ".py",
   "mimetype": "text/x-python",
   "name": "python",
   "nbconvert_exporter": "python",
   "pygments_lexer": "ipython3",
   "version": "3.10.9"
  }
 },
 "nbformat": 4,
 "nbformat_minor": 5
}
