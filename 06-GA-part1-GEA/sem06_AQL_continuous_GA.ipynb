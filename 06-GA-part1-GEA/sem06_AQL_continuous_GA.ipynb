{
 "cells": [
  {
   "cell_type": "markdown",
   "id": "66755134",
   "metadata": {},
   "source": [
    "# Semianr 6 - Applied Quantitative Logistics"
   ]
  },
  {
   "cell_type": "markdown",
   "id": "02b47483",
   "metadata": {},
   "source": [
    "## Implementing Genetic Algorithm for *Continuous Problems*\n",
    "\n",
    "## Continuous GA\n",
    "\n",
    "**Problem:** Sphere\n",
    "$$\n",
    "\\min{z} = f_{sph}(x) = \\begin{equation*}\n",
    " \\sum_{i=1}^n {x_i}^2 \\end{equation*}\n",
    "$$\n",
    "\n",
    "$$\n",
    "x_{min} \\le x_i \\le x_{max}\n",
    "$$\n",
    "\n",
    "Optimal Solutions:\n",
    "\n",
    "$$\n",
    "\\forall i \\;\n",
    "\\left\\{\n",
    "    \\begin{array}\\\\\n",
    "        x_i^* = 0 \\\\\n",
    "        z^* = 0 \\\\\n",
    "    \\end{array}\n",
    "\\right.\n",
    "$$"
   ]
  },
  {
   "cell_type": "code",
   "execution_count": null,
   "id": "e521202b",
   "metadata": {},
   "outputs": [],
   "source": [
    "import numpy as np\n",
    "import pandas as pd\n",
    "import random\n",
    "import math\n",
    "import matplotlib.pyplot as plt"
   ]
  },
  {
   "cell_type": "markdown",
   "id": "f214caf5",
   "metadata": {},
   "source": [
    "### Cost Function"
   ]
  },
  {
   "cell_type": "code",
   "execution_count": null,
   "id": "1fc506c5",
   "metadata": {},
   "outputs": [],
   "source": [
    "def sphere(x):\n",
    "    \n",
    "    global NFE\n",
    "    \n",
    "    if pd.isna(NFE):\n",
    "        NFE = 0\n",
    "    \n",
    "    NFE += 1\n",
    "    \n",
    "    z = [item**2 for item in x]\n",
    "    \n",
    "    return sum(z)"
   ]
  },
  {
   "cell_type": "code",
   "execution_count": null,
   "id": "9defaaa9",
   "metadata": {},
   "outputs": [],
   "source": [
    "<YOUR CODE>"
   ]
  },
  {
   "cell_type": "markdown",
   "id": "90fded31",
   "metadata": {},
   "source": [
    "### CrossOver"
   ]
  },
  {
   "cell_type": "code",
   "execution_count": null,
   "id": "b1867c2c",
   "metadata": {},
   "outputs": [],
   "source": [
    "def CrossOver(x1, x2, gamma, varMin, varMax):\n",
    "    \n",
    "    alpha = list(np.random.uniform(-gamma, 1+gamma, size=len(x1)))\n",
    "    \n",
    "    y1 = list(np.multiply(alpha, x1) + (1 - np.array(alpha))*np.array(x2))\n",
    "    y2 = list(np.multiply(alpha, x2) + (1 - np.array(alpha))*np.array(x1))\n",
    "    \n",
    "    y1 = [max(i, varMin) for i in y1]\n",
    "    y1 = [min(i, varMax) for i in y1]\n",
    "    \n",
    "    y2 = [max(i, varMin) for i in y2]\n",
    "    y2 = [min(i, varMax) for i in y2]\n",
    "    \n",
    "    return y1, y2"
   ]
  },
  {
   "cell_type": "markdown",
   "id": "2ee6a7eb",
   "metadata": {},
   "source": [
    "### Mutation"
   ]
  },
  {
   "cell_type": "code",
   "execution_count": null,
   "id": "8e520c37",
   "metadata": {},
   "outputs": [],
   "source": [
    "def mutation(x, varMin, varMax):\n",
    "    index = int(np.random.randint(0, len(x), size=1))\n",
    "    \n",
    "    sigma = 0.1 * (varMax-varMin)\n",
    "    \n",
    "    y = x.copy()\n",
    "    \n",
    "    y[index] = x[index] + sigma*np.random.randn()\n",
    "    \n",
    "    y = [max(i, varMin) for i in y]\n",
    "    y = [min(i, varMax) for i in y]    \n",
    "    return y"
   ]
  },
  {
   "cell_type": "markdown",
   "id": "32d0ece7",
   "metadata": {},
   "source": [
    "## How to more improve the Genetic Algorithm \n",
    "\n",
    "Parent selection can be an option.\n",
    "\n",
    "### Roulette Wheel Selection"
   ]
  },
  {
   "cell_type": "code",
   "execution_count": null,
   "id": "cd2cbb2c",
   "metadata": {},
   "outputs": [],
   "source": [
    "<YOUR CODE>"
   ]
  },
  {
   "cell_type": "markdown",
   "id": "5435c8cb",
   "metadata": {},
   "source": [
    "### Tournoment Selection"
   ]
  },
  {
   "cell_type": "code",
   "execution_count": null,
   "id": "07aeba9b",
   "metadata": {},
   "outputs": [],
   "source": [
    "<YOUR CODE>"
   ]
  },
  {
   "cell_type": "markdown",
   "id": "0b8b0255",
   "metadata": {},
   "source": [
    "#### Important fact\n",
    "\n",
    "In calculating the probability we said:\n",
    "$$\n",
    "p_i \\; \\alpha \\; \\exp^{-\\beta c_i}\n",
    "$$\n",
    "\n",
    "Let's say we want to minimize the cost of a project, first it was based on $, then RUB, and then maybe with another currency which has the lowest value. In this case the scale for the function will change.\n",
    "\n",
    "When we change the data (cost scale changes), then we need to change the **betha** too. In this senario we manipulate the formula to normalize it:\n",
    "\n",
    "$$\n",
    "p_i \\; \\alpha \\; \\exp^{-\\beta \\frac{c_i}{c_{max}}}\n",
    "$$\n",
    "\n",
    "$c_{max}$ is the worst cost ever found\n",
    "\n",
    "\n",
    "\n",
    "In this case with one setting we solve different types of problems. Now **betha** is independant from the cost function."
   ]
  },
  {
   "cell_type": "code",
   "execution_count": null,
   "id": "0845ed46",
   "metadata": {},
   "outputs": [],
   "source": [
    "<YOUR CODE>"
   ]
  },
  {
   "cell_type": "markdown",
   "id": "109df39f",
   "metadata": {},
   "source": [
    "### Plot the results"
   ]
  },
  {
   "cell_type": "code",
   "execution_count": null,
   "id": "85ee6d41",
   "metadata": {},
   "outputs": [],
   "source": [
    "plt.plot(nfe, bestCosts, linewidth = 3)\n",
    "plt.xlabel('NFE')\n",
    "plt.ylabel('Best Cost')"
   ]
  },
  {
   "cell_type": "markdown",
   "id": "3c301697",
   "metadata": {},
   "source": [
    "### y-axis in logarithm"
   ]
  },
  {
   "cell_type": "code",
   "execution_count": null,
   "id": "0598b8b3",
   "metadata": {},
   "outputs": [],
   "source": [
    "plt.plot(nfe, np.log(bestCosts), linewidth = 3)\n",
    "plt.xlabel('NFE')\n",
    "plt.ylabel('Best Cost')"
   ]
  },
  {
   "cell_type": "code",
   "execution_count": null,
   "id": "c78ab7db",
   "metadata": {},
   "outputs": [],
   "source": []
  }
 ],
 "metadata": {
  "kernelspec": {
   "display_name": "Python 3 (ipykernel)",
   "language": "python",
   "name": "python3"
  },
  "language_info": {
   "codemirror_mode": {
    "name": "ipython",
    "version": 3
   },
   "file_extension": ".py",
   "mimetype": "text/x-python",
   "name": "python",
   "nbconvert_exporter": "python",
   "pygments_lexer": "ipython3",
   "version": "3.10.9"
  }
 },
 "nbformat": 4,
 "nbformat_minor": 5
}
