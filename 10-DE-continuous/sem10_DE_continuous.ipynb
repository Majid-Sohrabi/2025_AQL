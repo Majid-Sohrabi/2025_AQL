{
 "cells": [
  {
   "cell_type": "markdown",
   "id": "7d5388ab",
   "metadata": {},
   "source": [
    "# Semianr 10 - Applied Quantitative Logistics\n",
    "\n",
    "### Differential Evolution Algorithm (DE)"
   ]
  },
  {
   "cell_type": "code",
   "execution_count": null,
   "id": "81325c08",
   "metadata": {},
   "outputs": [],
   "source": [
    "import math\n",
    "import random\n",
    "import numpy as np\n",
    "import pandas as pd\n",
    "import matplotlib.pyplot as plt"
   ]
  },
  {
   "cell_type": "markdown",
   "id": "5ca0fa12",
   "metadata": {},
   "source": [
    "### Sphere Problem\n",
    "\n",
    "$$\n",
    "\\min{z} = f_{sph}(x) = \\begin{equation*}\n",
    " \\sum_{i=1}^n {x_i}^2 \\end{equation*}\n",
    "$$\n",
    "\n",
    "$$\n",
    "x_{min} \\le x_i \\le x_{max}\n",
    "$$\n",
    "\n",
    "Optimal Solutions:\n",
    "\n",
    "$$\n",
    "\\forall i \\;\n",
    "\\left\\{\n",
    "    \\begin{array}\\\\\n",
    "        x_i^* = 0 \\\\\n",
    "        z^* = 0 \\\\\n",
    "    \\end{array}\n",
    "\\right.\n",
    "$$"
   ]
  },
  {
   "cell_type": "code",
   "execution_count": null,
   "id": "c1837788",
   "metadata": {},
   "outputs": [],
   "source": [
    "def sphere(x):\n",
    "    \n",
    "    global NFE\n",
    "    \n",
    "    if pd.isna(NFE):\n",
    "        NFE = 0\n",
    "        \n",
    "    NFE += 1\n",
    "    \n",
    "    z = [item**2 for item in x]\n",
    "    \n",
    "    return sum(z)"
   ]
  },
  {
   "cell_type": "markdown",
   "id": "0029d9f9",
   "metadata": {},
   "source": [
    "### DE Algorithm"
   ]
  },
  {
   "cell_type": "code",
   "execution_count": null,
   "id": "3e804510",
   "metadata": {
    "scrolled": false
   },
   "outputs": [],
   "source": [
    "## Problem definition\n",
    "\n",
    "nVar = 10 # Number of decision variable\n",
    "\n",
    "varMin = -5\n",
    "varMax = 5\n",
    "\n",
    "global NFE\n",
    "NFE = 0\n",
    "\n",
    "# DE parameters\n",
    "\n",
    "maxIteration = 100     # Maximum iteration\n",
    "\n",
    "nPop = 50              # Number of population\n",
    "\n",
    "beta_min = 0.2         # Lower bound scaling factor\n",
    "beta_max = 0.8         # Upper bound scaling factor\n",
    "\n",
    "pCR = 0.2              # Crossover Probability\n",
    "\n",
    "## Initialization\n",
    "\n",
    "bestCost = np.inf      # Worst case for best cost\n",
    "\n",
    "pop, costs = [], []\n",
    "\n",
    "for i in range(0, nPop):\n",
    "    pop.append(list(np.random.uniform(varMin, varMax, size=nVar)))\n",
    "    costs.append(sphere(pop[i]))\n",
    "    \n",
    "    if costs[i] < bestCost:    # Store best cost in each iteration\n",
    "        bestCost = costs[i]\n",
    "        bestSol = pop[i]\n",
    "        \n",
    "# Array to hold number of function evaluation\n",
    "nfe = []\n",
    "        \n",
    "BestCost_list = []     # Store the best costs in each iteration\n",
    "\n",
    "for it in range(0, maxIteration):\n",
    "    \n",
    "    for i in range(0, nPop):\n",
    "        \n",
    "        x = pop[i]\n",
    "        \n",
    "        A = list(np.random.permutation(nPop))   # Make permutation for selecting 3 indexs\n",
    "        \n",
    "        A.remove(i)    # Remove index i from indexs\n",
    "        \n",
    "        # Store first 3 indexs (to chose from the population)\n",
    "        a = A[0]\n",
    "        b = A[1]\n",
    "        c = A[3]\n",
    "        \n",
    "        ## Mutation\n",
    "        beta = float(np.random.uniform(beta_min, beta_max, size=1))\n",
    "        \n",
    "        y = list(np.array(pop[a]) + beta *(np.array(pop[b]) - np.array(pop[c])))\n",
    "        \n",
    "        ## Crossover\n",
    "        z = []\n",
    "        j0 = int(np.random.randint(len(x), size=1))\n",
    "        for j in range(0, len(x)):\n",
    "            if j0==j or np.random.random()<=pCR:\n",
    "                z.append(y[j])\n",
    "            else:\n",
    "                z.append(x[j])\n",
    "        \n",
    "        newSol = z\n",
    "        newSol_cost = sphere(newSol)\n",
    "        \n",
    "        if newSol_cost < costs[i]:    # If new solution is better, then replace by parent\n",
    "            pop[i] = newSol\n",
    "            costs[i] = newSol_cost\n",
    "            \n",
    "            if costs[i] < bestCost:   # Store the best solution and best cost\n",
    "                bestCost = costs[i]\n",
    "                bestSol = pop[i]\n",
    "                \n",
    "    # Update the list of best costs for each iteration\n",
    "    BestCost_list.append(bestCost)\n",
    "    \n",
    "    # Store nfe\n",
    "    nfe.append(NFE)\n",
    "    \n",
    "    print(f'Iteration: {it}, NFE: {nfe[it]}, Best Cost = {BestCost_list[it]}')"
   ]
  },
  {
   "cell_type": "code",
   "execution_count": null,
   "id": "ba4c3df5",
   "metadata": {},
   "outputs": [],
   "source": [
    "# Result\n",
    "plt.plot(BestCost_list, linewidth = 3)\n",
    "plt.xlabel('Iteration')\n",
    "plt.ylabel('Costs')"
   ]
  },
  {
   "cell_type": "code",
   "execution_count": null,
   "id": "e3aa258d",
   "metadata": {},
   "outputs": [],
   "source": []
  }
 ],
 "metadata": {
  "kernelspec": {
   "display_name": "Python 3 (ipykernel)",
   "language": "python",
   "name": "python3"
  },
  "language_info": {
   "codemirror_mode": {
    "name": "ipython",
    "version": 3
   },
   "file_extension": ".py",
   "mimetype": "text/x-python",
   "name": "python",
   "nbconvert_exporter": "python",
   "pygments_lexer": "ipython3",
   "version": "3.10.9"
  }
 },
 "nbformat": 4,
 "nbformat_minor": 5
}
