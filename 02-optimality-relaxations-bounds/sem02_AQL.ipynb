{
 "cells": [
  {
   "cell_type": "markdown",
   "id": "22a0ac45",
   "metadata": {},
   "source": [
    "# Bin Packing Problem\n",
    "\n",
    "## Introduction\n",
    "\n",
    "The **Bin Packing Problem** is a classic combinatorial optimization problem. The objective is to pack a set of items of varying sizes into a minimum number of bins, each with a fixed capacity.\n",
    "\n",
    "This problem has applications in various fields such as:\n",
    "\n",
    "- Logistics (e.g., loading trucks or containers)\n",
    "- Computer science (e.g., memory allocation)\n",
    "- Manufacturing (e.g., cutting stock problems)"
   ]
  },
  {
   "cell_type": "markdown",
   "id": "dd156a7d",
   "metadata": {},
   "source": [
    "## Problem Statement\n",
    "\n",
    "### Input:\n",
    "- A list of items with sizes $( s_1, s_2, \\ldots, s_n )$, where $(s_i)$ represents the size of the $(i)-th$ item.\n",
    "- A fixed bin capacity $(C)$.\n",
    "\n",
    "### Objective:\n",
    "- Minimize the number of bins $(k)$ used such that the total size of items in each bin does not exceed the bin capacity $(C)$.\n",
    "\n",
    "### Constraints:\n",
    "1. $( \\sum_{i \\in B_j} s_i \\leq C \\quad \\forall j )$\n",
    "   (Total size in each bin $(B_j)$ must not exceed the capacity $(C)$).\n",
    "2. Each item is assigned to exactly one bin.\n",
    "\n",
    "### Example:\n",
    "\n",
    "Given:\n",
    "- Item sizes: [4, 3, 7, 5, 2]\n",
    "- Bin capacity: 10\n",
    "\n",
    "**Solution:**  \n",
    "Using 3 bins:\n",
    "- Bin 1: [7, 3] (total size = 10)\n",
    "- Bin 2: [5, 4] (total size = 9)\n",
    "- Bin 3: [2] (total size = 2)"
   ]
  },
  {
   "cell_type": "markdown",
   "id": "b54effc1",
   "metadata": {},
   "source": [
    "## Mathematical Formulation\n",
    "\n",
    "The problem can be expressed mathematically as:\n",
    "\n",
    "1. Decision variables:\n",
    "   $( x_{ij} \\in \\{0, 1\\})$, where:\n",
    "   - $(x_{ij} = 1)$ if item $(i)$ is assigned to bin $(j)$.\n",
    "   - $(x_{ij} = 0)$ otherwise.\n",
    "\n",
    "2. Minimize:\n",
    "   $[\n",
    "   \\text{Minimize } \\sum_{j=1}^k y_j\n",
    "   ]$\n",
    "   Where $(y_j = 1)$ if bin $(j)$ is used, otherwise $(y_j = 0)$.\n",
    "\n",
    "3. Subject to:\n",
    "   \n",
    "   $$\\sum_{j=1}^k x_{ij} = 1 \\quad \\forall i \\quad \\text{(Each item is assigned to one bin)}.$$\n",
    "  \n",
    "   $$\\sum_{i=1}^n s_i \\cdot x_{ij} \\leq C \\cdot y_j \\quad \\forall j \\quad \\text{(Bin capacity constraint)}.$$"
   ]
  },
  {
   "cell_type": "markdown",
   "id": "c4d8708d",
   "metadata": {},
   "source": [
    "## Solution Approaches\n",
    "\n",
    "### 1. Exhaustive Search\n",
    "\n",
    "This approach generates all possible arrangements of items into bins and selects the one with the minimum bins used. It is computationally expensive and impractical for large inputs."
   ]
  },
  {
   "cell_type": "code",
   "execution_count": 26,
   "id": "0519bb97",
   "metadata": {},
   "outputs": [
    {
     "name": "stdout",
     "output_type": "stream",
     "text": [
      "Minimum bins (Exhaustive): 3\n"
     ]
    }
   ],
   "source": [
    "from itertools import permutations\n",
    "import matplotlib.pyplot as plt\n",
    "\n",
    "def exhaustive_bin_packing(items, capacity):\n",
    "    n = len(items)\n",
    "    best_bins = len(items)\n",
    "    \n",
    "    for perm in permutations(items):\n",
    "        bins = []\n",
    "        for item in perm:\n",
    "            placed = False\n",
    "            for b in bins:\n",
    "                if sum(b) + item <= capacity:\n",
    "                    b.append(item)\n",
    "                    placed = True\n",
    "                    break\n",
    "            if not placed:\n",
    "                bins.append([item])\n",
    "        best_bins = min(best_bins, len(bins))\n",
    "    \n",
    "    return best_bins\n",
    "\n",
    "items = [4, 3, 7, 5, 2]\n",
    "capacity = 10\n",
    "\n",
    "# items = [8, 8, 7, 6, 5, 3, 2]\n",
    "# capacity = 10\n",
    "\n",
    "print(\"Minimum bins (Exhaustive):\", exhaustive_bin_packing(items, capacity))"
   ]
  },
  {
   "cell_type": "code",
   "execution_count": null,
   "id": "4213296a",
   "metadata": {},
   "outputs": [],
   "source": []
  },
  {
   "cell_type": "code",
   "execution_count": null,
   "id": "ea854790",
   "metadata": {},
   "outputs": [],
   "source": []
  },
  {
   "cell_type": "markdown",
   "id": "d05156d3",
   "metadata": {},
   "source": [
    "### 2. Greedy Algorithm\n",
    "\n",
    "A common greedy approach is the **First-Fit Decreasing (FFD)** algorithm:\n",
    "1. Sort items in decreasing order.\n",
    "2. For each item, place it into the first bin that has enough capacity. If no such bin exists, open a new bin."
   ]
  },
  {
   "cell_type": "code",
   "execution_count": null,
   "id": "906a6c0c",
   "metadata": {},
   "outputs": [],
   "source": [
    "<YOUR CODE>"
   ]
  },
  {
   "cell_type": "code",
   "execution_count": null,
   "id": "baa892d8",
   "metadata": {},
   "outputs": [],
   "source": []
  },
  {
   "cell_type": "code",
   "execution_count": null,
   "id": "d14a38cc",
   "metadata": {},
   "outputs": [],
   "source": []
  },
  {
   "cell_type": "markdown",
   "id": "05810b0b",
   "metadata": {},
   "source": [
    "### 3. Heuristic Approach\n",
    "\n",
    "A heuristic such as **Best-Fit Decreasing (BFD)**:\n",
    "1. Sort items in decreasing order.\n",
    "2. For each item, place it into the bin where it fits most snugly (minimizing remaining capacity). If no such bin exists, open a new bin."
   ]
  },
  {
   "cell_type": "code",
   "execution_count": null,
   "id": "613aa4ae",
   "metadata": {},
   "outputs": [],
   "source": [
    "<YOUR CODE>"
   ]
  },
  {
   "cell_type": "code",
   "execution_count": null,
   "id": "f11772a6",
   "metadata": {},
   "outputs": [],
   "source": []
  },
  {
   "cell_type": "code",
   "execution_count": null,
   "id": "d3816eb6",
   "metadata": {},
   "outputs": [],
   "source": []
  }
 ],
 "metadata": {
  "kernelspec": {
   "display_name": "Python 3 (ipykernel)",
   "language": "python",
   "name": "python3"
  },
  "language_info": {
   "codemirror_mode": {
    "name": "ipython",
    "version": 3
   },
   "file_extension": ".py",
   "mimetype": "text/x-python",
   "name": "python",
   "nbconvert_exporter": "python",
   "pygments_lexer": "ipython3",
   "version": "3.10.9"
  }
 },
 "nbformat": 4,
 "nbformat_minor": 5
}
