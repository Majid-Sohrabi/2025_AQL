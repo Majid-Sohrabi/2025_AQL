{
 "cells": [
  {
   "cell_type": "markdown",
   "id": "7d5388ab",
   "metadata": {},
   "source": [
    "# Semianr 3 - Applied Quantitative Logistics"
   ]
  },
  {
   "cell_type": "code",
   "execution_count": null,
   "id": "fd8d2662",
   "metadata": {},
   "outputs": [],
   "source": [
    "import numpy as np\n",
    "import pandas as pd\n",
    "import math\n",
    "import matplotlib.pyplot as plt\n",
    "import random"
   ]
  },
  {
   "cell_type": "markdown",
   "id": "1b27b4ef",
   "metadata": {},
   "source": [
    "## Binary SA\n",
    "\n",
    "**Problem:** Min One\n",
    "$$\n",
    "\\min{z} = f(x) = \\begin{equation*}\n",
    "\\sum_{i=1}^n x_i \\end{equation*}\n",
    "$$\n",
    "\n",
    "$$\n",
    "x_i \\in \\{0, 1\\}\n",
    "$$"
   ]
  },
  {
   "cell_type": "code",
   "execution_count": null,
   "id": "1eeb5652",
   "metadata": {},
   "outputs": [],
   "source": [
    "def MinOne(x):\n",
    "    global NFE\n",
    "    \n",
    "    if pd.isna(NFE):\n",
    "        NFE = 0\n",
    "        \n",
    "    NFE+=1\n",
    "    \n",
    "    return sum(x)"
   ]
  },
  {
   "cell_type": "markdown",
   "id": "9da774cd",
   "metadata": {},
   "source": [
    "## Mutation"
   ]
  },
  {
   "cell_type": "code",
   "execution_count": null,
   "id": "3ce37bc0",
   "metadata": {},
   "outputs": [],
   "source": [
    "# Displacement Mutation\n",
    "def Mutation(x):\n",
    "    index = int(np.random.randint(0, len(x), size=1))\n",
    "    \n",
    "    y = x.copy()\n",
    "    \n",
    "    y[index] = 1-x[index]\n",
    "    \n",
    "    return y"
   ]
  },
  {
   "cell_type": "markdown",
   "id": "173d1288",
   "metadata": {},
   "source": [
    "## Simmulated Annealing (SA)"
   ]
  },
  {
   "cell_type": "code",
   "execution_count": null,
   "id": "7ede52b7",
   "metadata": {
    "scrolled": true
   },
   "outputs": [],
   "source": [
    "### Problem Definition --------------------------\n",
    "nVar = 100\n",
    "\n",
    "### SA Parameters --------------------------\n",
    "global NFE\n",
    "NFE = 0\n",
    "\n",
    "maxIt = 1000    # maximum number of iteration\n",
    "\n",
    "T0 = 100        # initial temprature\n",
    "alpha = 0.99    # temprature reduction rate\n",
    "\n",
    "sol = list(np.random.randint(2, size=nVar))  # Generate a random solution\n",
    "cost = MinOne(sol)      # Evaluating the tour\n",
    "\n",
    "BestSol = sol\n",
    "BestCost = cost\n",
    "\n",
    "BestCost_list= np.zeros(maxIt-1)     # Array to Hold Best Values\n",
    "\n",
    "T = T0   # Initialize Temp.\n",
    "\n",
    "### SA Main Loop --------------------------\n",
    "for it in range(1, maxIt):\n",
    "    newsol = Mutation(sol)\n",
    "    newcost = MinOne(newsol)\n",
    "    \n",
    "    if newcost <= cost:      # If new NEWSOL is better than SOL\n",
    "        sol = newsol\n",
    "        cost = newcost\n",
    "    else:                    # If NEWSOL is NOT better than SOL\n",
    "        DELTA = newcost - cost\n",
    "        P = math.exp(-DELTA/T)\n",
    "        r = np.random.random()\n",
    "        if P>=r:\n",
    "            sol = newsol\n",
    "            cost = newcost\n",
    "            \n",
    "    if cost <= BestCost:\n",
    "        BestSol = sol\n",
    "        BetCost = cost\n",
    "        \n",
    "    BestCost_list[it-1] = MinOne(BestSol)\n",
    "            \n",
    "    # Display Iteration Information\n",
    "    print(f'Iteration: {it}, Best Cost = {BestCost_list[it-1]}')\n",
    "    \n",
    "    # Update Temp.\n",
    "    T = alpha*T"
   ]
  },
  {
   "cell_type": "markdown",
   "id": "39718bb9",
   "metadata": {},
   "source": [
    "### Results"
   ]
  },
  {
   "cell_type": "code",
   "execution_count": null,
   "id": "aab6694c",
   "metadata": {},
   "outputs": [],
   "source": [
    "# Plot the result\n",
    "plt.plot(BestCost_list, linewidth = 2)\n",
    "plt.xlabel('Iteration')\n",
    "plt.ylabel('Best Cost')"
   ]
  },
  {
   "cell_type": "code",
   "execution_count": null,
   "id": "42ef252e",
   "metadata": {},
   "outputs": [],
   "source": []
  }
 ],
 "metadata": {
  "kernelspec": {
   "display_name": "Python 3 (ipykernel)",
   "language": "python",
   "name": "python3"
  },
  "language_info": {
   "codemirror_mode": {
    "name": "ipython",
    "version": 3
   },
   "file_extension": ".py",
   "mimetype": "text/x-python",
   "name": "python",
   "nbconvert_exporter": "python",
   "pygments_lexer": "ipython3",
   "version": "3.10.9"
  }
 },
 "nbformat": 4,
 "nbformat_minor": 5
}
